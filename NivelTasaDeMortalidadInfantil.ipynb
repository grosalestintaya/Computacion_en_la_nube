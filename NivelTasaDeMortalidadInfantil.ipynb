{
  "nbformat": 4,
  "nbformat_minor": 0,
  "metadata": {
    "colab": {
      "name": "NivelTasaDeMortalidadInfantil.ipynb",
      "provenance": []
    },
    "kernelspec": {
      "name": "python3",
      "display_name": "Python 3"
    },
    "language_info": {
      "name": "python"
    }
  },
  "cells": [
    {
      "cell_type": "code",
      "execution_count": 6,
      "metadata": {
        "id": "NnsHHkUbrNJI"
      },
      "outputs": [],
      "source": [
        "import pandas as pd\n",
        "import numpy as np\n",
        "import matplotlib.pyplot as plt\n",
        "import seaborn as sns\n",
        "import os\n",
        "for dirname, _, filenames in os.walk('/kaggle/input'):\n",
        "    for filename in filenames:\n",
        "        print(os.path.join(dirname, filename))"
      ]
    },
    {
      "cell_type": "code",
      "source": [
        "train = pd.read_csv('NTasaDeMortalidadInfantil.csv')"
      ],
      "metadata": {
        "id": "jgKcyCglrVBX"
      },
      "execution_count": 2,
      "outputs": []
    },
    {
      "cell_type": "code",
      "source": [
        "train.head(100)"
      ],
      "metadata": {
        "colab": {
          "base_uri": "https://localhost:8080/",
          "height": 423
        },
        "id": "wpN1Wl_1rfMK",
        "outputId": "88054bc2-3c16-4a2b-fdbb-760523860a95"
      },
      "execution_count": 3,
      "outputs": [
        {
          "output_type": "execute_result",
          "data": {
            "text/plain": [
              "     Id Country  Year  Gender  Child Mortality(1 to 4) Total Population  \\\n",
              "0     1    Peru  1957  Female                    20700         4656,563   \n",
              "1     2    Peru  1958  Female                    20439         4785,706   \n",
              "2     3    Peru  1959  Female                    20229         4920,069   \n",
              "3     4    Peru  1960  Female                    20014         5060,097   \n",
              "4     5    Peru  1961  Female                    19799         5205,996   \n",
              "..  ...     ...   ...     ...                      ...              ...   \n",
              "95   96    Peru  1989    Male                     8469        10754,407   \n",
              "96   97    Peru  1990    Male                     7941        10978,391   \n",
              "97   98    Peru  1991    Male                     7419        11202,378   \n",
              "98   99    Peru  1992    Male                     6881        11425,842   \n",
              "99  100    Peru  1993    Male                     6309        11649,599   \n",
              "\n",
              "   Mortality Rate Mortality level  \n",
              "0     4,445338762            Alto  \n",
              "1     4,270843215            Alto  \n",
              "2     4,111527704            Alto  \n",
              "3     3,955260146            Alto  \n",
              "4     3,803114716            Alto  \n",
              "..            ...             ...  \n",
              "95    0,787491119           Medio  \n",
              "96     0,72333004           Medio  \n",
              "97      0,6622701           Medio  \n",
              "98    0,602231328           Medio  \n",
              "99    0,541563705           Medio  \n",
              "\n",
              "[100 rows x 8 columns]"
            ],
            "text/html": [
              "\n",
              "  <div id=\"df-7b0dde2c-cbef-447e-821f-b88e95e4d505\">\n",
              "    <div class=\"colab-df-container\">\n",
              "      <div>\n",
              "<style scoped>\n",
              "    .dataframe tbody tr th:only-of-type {\n",
              "        vertical-align: middle;\n",
              "    }\n",
              "\n",
              "    .dataframe tbody tr th {\n",
              "        vertical-align: top;\n",
              "    }\n",
              "\n",
              "    .dataframe thead th {\n",
              "        text-align: right;\n",
              "    }\n",
              "</style>\n",
              "<table border=\"1\" class=\"dataframe\">\n",
              "  <thead>\n",
              "    <tr style=\"text-align: right;\">\n",
              "      <th></th>\n",
              "      <th>Id</th>\n",
              "      <th>Country</th>\n",
              "      <th>Year</th>\n",
              "      <th>Gender</th>\n",
              "      <th>Child Mortality(1 to 4)</th>\n",
              "      <th>Total Population</th>\n",
              "      <th>Mortality Rate</th>\n",
              "      <th>Mortality level</th>\n",
              "    </tr>\n",
              "  </thead>\n",
              "  <tbody>\n",
              "    <tr>\n",
              "      <th>0</th>\n",
              "      <td>1</td>\n",
              "      <td>Peru</td>\n",
              "      <td>1957</td>\n",
              "      <td>Female</td>\n",
              "      <td>20700</td>\n",
              "      <td>4656,563</td>\n",
              "      <td>4,445338762</td>\n",
              "      <td>Alto</td>\n",
              "    </tr>\n",
              "    <tr>\n",
              "      <th>1</th>\n",
              "      <td>2</td>\n",
              "      <td>Peru</td>\n",
              "      <td>1958</td>\n",
              "      <td>Female</td>\n",
              "      <td>20439</td>\n",
              "      <td>4785,706</td>\n",
              "      <td>4,270843215</td>\n",
              "      <td>Alto</td>\n",
              "    </tr>\n",
              "    <tr>\n",
              "      <th>2</th>\n",
              "      <td>3</td>\n",
              "      <td>Peru</td>\n",
              "      <td>1959</td>\n",
              "      <td>Female</td>\n",
              "      <td>20229</td>\n",
              "      <td>4920,069</td>\n",
              "      <td>4,111527704</td>\n",
              "      <td>Alto</td>\n",
              "    </tr>\n",
              "    <tr>\n",
              "      <th>3</th>\n",
              "      <td>4</td>\n",
              "      <td>Peru</td>\n",
              "      <td>1960</td>\n",
              "      <td>Female</td>\n",
              "      <td>20014</td>\n",
              "      <td>5060,097</td>\n",
              "      <td>3,955260146</td>\n",
              "      <td>Alto</td>\n",
              "    </tr>\n",
              "    <tr>\n",
              "      <th>4</th>\n",
              "      <td>5</td>\n",
              "      <td>Peru</td>\n",
              "      <td>1961</td>\n",
              "      <td>Female</td>\n",
              "      <td>19799</td>\n",
              "      <td>5205,996</td>\n",
              "      <td>3,803114716</td>\n",
              "      <td>Alto</td>\n",
              "    </tr>\n",
              "    <tr>\n",
              "      <th>...</th>\n",
              "      <td>...</td>\n",
              "      <td>...</td>\n",
              "      <td>...</td>\n",
              "      <td>...</td>\n",
              "      <td>...</td>\n",
              "      <td>...</td>\n",
              "      <td>...</td>\n",
              "      <td>...</td>\n",
              "    </tr>\n",
              "    <tr>\n",
              "      <th>95</th>\n",
              "      <td>96</td>\n",
              "      <td>Peru</td>\n",
              "      <td>1989</td>\n",
              "      <td>Male</td>\n",
              "      <td>8469</td>\n",
              "      <td>10754,407</td>\n",
              "      <td>0,787491119</td>\n",
              "      <td>Medio</td>\n",
              "    </tr>\n",
              "    <tr>\n",
              "      <th>96</th>\n",
              "      <td>97</td>\n",
              "      <td>Peru</td>\n",
              "      <td>1990</td>\n",
              "      <td>Male</td>\n",
              "      <td>7941</td>\n",
              "      <td>10978,391</td>\n",
              "      <td>0,72333004</td>\n",
              "      <td>Medio</td>\n",
              "    </tr>\n",
              "    <tr>\n",
              "      <th>97</th>\n",
              "      <td>98</td>\n",
              "      <td>Peru</td>\n",
              "      <td>1991</td>\n",
              "      <td>Male</td>\n",
              "      <td>7419</td>\n",
              "      <td>11202,378</td>\n",
              "      <td>0,6622701</td>\n",
              "      <td>Medio</td>\n",
              "    </tr>\n",
              "    <tr>\n",
              "      <th>98</th>\n",
              "      <td>99</td>\n",
              "      <td>Peru</td>\n",
              "      <td>1992</td>\n",
              "      <td>Male</td>\n",
              "      <td>6881</td>\n",
              "      <td>11425,842</td>\n",
              "      <td>0,602231328</td>\n",
              "      <td>Medio</td>\n",
              "    </tr>\n",
              "    <tr>\n",
              "      <th>99</th>\n",
              "      <td>100</td>\n",
              "      <td>Peru</td>\n",
              "      <td>1993</td>\n",
              "      <td>Male</td>\n",
              "      <td>6309</td>\n",
              "      <td>11649,599</td>\n",
              "      <td>0,541563705</td>\n",
              "      <td>Medio</td>\n",
              "    </tr>\n",
              "  </tbody>\n",
              "</table>\n",
              "<p>100 rows × 8 columns</p>\n",
              "</div>\n",
              "      <button class=\"colab-df-convert\" onclick=\"convertToInteractive('df-7b0dde2c-cbef-447e-821f-b88e95e4d505')\"\n",
              "              title=\"Convert this dataframe to an interactive table.\"\n",
              "              style=\"display:none;\">\n",
              "        \n",
              "  <svg xmlns=\"http://www.w3.org/2000/svg\" height=\"24px\"viewBox=\"0 0 24 24\"\n",
              "       width=\"24px\">\n",
              "    <path d=\"M0 0h24v24H0V0z\" fill=\"none\"/>\n",
              "    <path d=\"M18.56 5.44l.94 2.06.94-2.06 2.06-.94-2.06-.94-.94-2.06-.94 2.06-2.06.94zm-11 1L8.5 8.5l.94-2.06 2.06-.94-2.06-.94L8.5 2.5l-.94 2.06-2.06.94zm10 10l.94 2.06.94-2.06 2.06-.94-2.06-.94-.94-2.06-.94 2.06-2.06.94z\"/><path d=\"M17.41 7.96l-1.37-1.37c-.4-.4-.92-.59-1.43-.59-.52 0-1.04.2-1.43.59L10.3 9.45l-7.72 7.72c-.78.78-.78 2.05 0 2.83L4 21.41c.39.39.9.59 1.41.59.51 0 1.02-.2 1.41-.59l7.78-7.78 2.81-2.81c.8-.78.8-2.07 0-2.86zM5.41 20L4 18.59l7.72-7.72 1.47 1.35L5.41 20z\"/>\n",
              "  </svg>\n",
              "      </button>\n",
              "      \n",
              "  <style>\n",
              "    .colab-df-container {\n",
              "      display:flex;\n",
              "      flex-wrap:wrap;\n",
              "      gap: 12px;\n",
              "    }\n",
              "\n",
              "    .colab-df-convert {\n",
              "      background-color: #E8F0FE;\n",
              "      border: none;\n",
              "      border-radius: 50%;\n",
              "      cursor: pointer;\n",
              "      display: none;\n",
              "      fill: #1967D2;\n",
              "      height: 32px;\n",
              "      padding: 0 0 0 0;\n",
              "      width: 32px;\n",
              "    }\n",
              "\n",
              "    .colab-df-convert:hover {\n",
              "      background-color: #E2EBFA;\n",
              "      box-shadow: 0px 1px 2px rgba(60, 64, 67, 0.3), 0px 1px 3px 1px rgba(60, 64, 67, 0.15);\n",
              "      fill: #174EA6;\n",
              "    }\n",
              "\n",
              "    [theme=dark] .colab-df-convert {\n",
              "      background-color: #3B4455;\n",
              "      fill: #D2E3FC;\n",
              "    }\n",
              "\n",
              "    [theme=dark] .colab-df-convert:hover {\n",
              "      background-color: #434B5C;\n",
              "      box-shadow: 0px 1px 3px 1px rgba(0, 0, 0, 0.15);\n",
              "      filter: drop-shadow(0px 1px 2px rgba(0, 0, 0, 0.3));\n",
              "      fill: #FFFFFF;\n",
              "    }\n",
              "  </style>\n",
              "\n",
              "      <script>\n",
              "        const buttonEl =\n",
              "          document.querySelector('#df-7b0dde2c-cbef-447e-821f-b88e95e4d505 button.colab-df-convert');\n",
              "        buttonEl.style.display =\n",
              "          google.colab.kernel.accessAllowed ? 'block' : 'none';\n",
              "\n",
              "        async function convertToInteractive(key) {\n",
              "          const element = document.querySelector('#df-7b0dde2c-cbef-447e-821f-b88e95e4d505');\n",
              "          const dataTable =\n",
              "            await google.colab.kernel.invokeFunction('convertToInteractive',\n",
              "                                                     [key], {});\n",
              "          if (!dataTable) return;\n",
              "\n",
              "          const docLinkHtml = 'Like what you see? Visit the ' +\n",
              "            '<a target=\"_blank\" href=https://colab.research.google.com/notebooks/data_table.ipynb>data table notebook</a>'\n",
              "            + ' to learn more about interactive tables.';\n",
              "          element.innerHTML = '';\n",
              "          dataTable['output_type'] = 'display_data';\n",
              "          await google.colab.output.renderOutput(dataTable, element);\n",
              "          const docLink = document.createElement('div');\n",
              "          docLink.innerHTML = docLinkHtml;\n",
              "          element.appendChild(docLink);\n",
              "        }\n",
              "      </script>\n",
              "    </div>\n",
              "  </div>\n",
              "  "
            ]
          },
          "metadata": {},
          "execution_count": 3
        }
      ]
    },
    {
      "cell_type": "code",
      "source": [
        "def plotchildmortality(country):\n",
        "    fig, axs = plt.subplots(2,2, sharex=True, figsize=[20,10] )\n",
        "    a = country+\" Child Mortality\"\n",
        "    fig.suptitle(a, fontsize=15, color='red')\n",
        "    axs[0,0].set_ylabel('Nivel de mortalidad al largo de los años')\n",
        "    sns.lineplot(ax=axs[0,0], data=train[train.Country == country], x='Year' , y='Mortality level', hue='Gender' )\n",
        "    axs[0,1].set_ylabel('Niñas fallecidas')\n",
        "    sns.lineplot(ax=axs[0,1], data=train[(train.Country == country) & (train.Gender=='Female')], x='Year', y='Child Mortality(1 to 4)')\n",
        "    axs[1,0].set_ylabel('Niños fallecidos')\n",
        "    sns.lineplot(ax=axs[1,0], data=train[(train.Country == country) & (train.Gender=='Male')], x='Year', y='Child Mortality(1 to 4)',  color='orange')\n",
        "    axs[1,1].set_ylabel('nivel de mortalida total')\n",
        "    axs[1,1].set_yticks(np.arange(0.0,5.0,0.5))\n",
        "    sns.lineplot(ax=axs[1,1], data=train[(train.Country == country) & (train.Gender !='Total')], x='Year', y='Mortality level', hue='Gender')\n",
        "    fig.text(.1,.05,'Data Source : UNICEF ; proyecto computacion en la nube')\n",
        "    fig.show()\n",
        "\n",
        "plotchildmortality('Peru')"
      ],
      "metadata": {
        "colab": {
          "base_uri": "https://localhost:8080/",
          "height": 702
        },
        "id": "dVv96e_6IHbg",
        "outputId": "2a6c33ae-d32e-469b-ec64-1e2fe2bc31c6"
      },
      "execution_count": 14,
      "outputs": [
        {
          "output_type": "display_data",
          "data": {
            "text/plain": [
              "<Figure size 1440x720 with 4 Axes>"
            ],
            "image/png": "[encoded data removed]"
          },
          "metadata": {
            "needs_background": "light"
          }
        }
      ]
    },
    {
      "cell_type": "code",
      "source": [
        "# \n",
        "trainDatax = train[['Year', 'Gender']]\n",
        "trainDatay = train[['Mortality level']]\n",
        "print(trainDatay.head(),\"\\n \\n\", trainDatax.head())"
      ],
      "metadata": {
        "colab": {
          "base_uri": "https://localhost:8080/"
        },
        "id": "d3hP3e3xrhUR",
        "outputId": "97299463-06e8-4ae8-8ad0-dd77b802e4e9"
      },
      "execution_count": null,
      "outputs": [
        {
          "output_type": "stream",
          "name": "stdout",
          "text": [
            "  Mortality level\n",
            "0            Alto\n",
            "1            Alto\n",
            "2            Alto\n",
            "3            Alto\n",
            "4            Alto \n",
            " \n",
            "    Year  Gender\n",
            "0  1957  Female\n",
            "1  1958  Female\n",
            "2  1959  Female\n",
            "3  1960  Female\n",
            "4  1961  Female\n"
          ]
        }
      ]
    },
    {
      "cell_type": "code",
      "source": [
        " # Muestra los valores que tiene la columna Country\n",
        "pd.unique(train['Country'])"
      ],
      "metadata": {
        "colab": {
          "base_uri": "https://localhost:8080/"
        },
        "id": "yRbXj95Pr6gn",
        "outputId": "5f947b31-8a4e-48c9-d998-fd120ea73186"
      },
      "execution_count": null,
      "outputs": [
        {
          "output_type": "execute_result",
          "data": {
            "text/plain": [
              "array(['Peru'], dtype=object)"
            ]
          },
          "metadata": {},
          "execution_count": 48
        }
      ]
    },
    {
      "cell_type": "code",
      "source": [
        "pd.unique(train['Year'])"
      ],
      "metadata": {
        "colab": {
          "base_uri": "https://localhost:8080/"
        },
        "id": "Pt3M-txXsVRf",
        "outputId": "ac7400ae-32fd-4ec1-d348-f7de37105f64"
      },
      "execution_count": null,
      "outputs": [
        {
          "output_type": "execute_result",
          "data": {
            "text/plain": [
              "array([1957, 1958, 1959, 1960, 1961, 1962, 1963, 1964, 1965, 1966, 1967,\n",
              "       1968, 1969, 1970, 1971, 1972, 1973, 1974, 1975, 1976, 1977, 1978,\n",
              "       1979, 1980, 1981, 1982, 1983, 1984, 1985, 1986, 1987, 1988, 1989,\n",
              "       1990, 1991, 1992, 1993, 1994, 1995, 1996, 1997, 1998, 1999, 2000,\n",
              "       2001, 2002, 2003, 2004, 2005, 2006, 2007, 2008, 2009, 2010, 2011,\n",
              "       2012, 2013, 2014, 2015, 2016, 2017, 2018, 2019])"
            ]
          },
          "metadata": {},
          "execution_count": 49
        }
      ]
    },
    {
      "cell_type": "code",
      "source": [
        "pd.unique(train['Gender'])"
      ],
      "metadata": {
        "colab": {
          "base_uri": "https://localhost:8080/"
        },
        "id": "Z0RtNcedsV35",
        "outputId": "d80e93f7-7e06-4b2e-eb13-cb2667b8fb91"
      },
      "execution_count": null,
      "outputs": [
        {
          "output_type": "execute_result",
          "data": {
            "text/plain": [
              "array(['Female', 'Male'], dtype=object)"
            ]
          },
          "metadata": {},
          "execution_count": 50
        }
      ]
    },
    {
      "cell_type": "code",
      "source": [
        "# Cantidad de valores nulos en la columna años ; isna() da true a los valores nan y false a los demas valores\n",
        "train['Year'].isna().sum()"
      ],
      "metadata": {
        "colab": {
          "base_uri": "https://localhost:8080/"
        },
        "id": "CAKkzzwIsYDo",
        "outputId": "daf5c129-9e06-4f94-8741-5476e7b756ad"
      },
      "execution_count": null,
      "outputs": [
        {
          "output_type": "execute_result",
          "data": {
            "text/plain": [
              "0"
            ]
          },
          "metadata": {},
          "execution_count": 51
        }
      ]
    },
    {
      "cell_type": "code",
      "source": [
        "# Mean halla la media\n",
        "train['Year'].mean()"
      ],
      "metadata": {
        "colab": {
          "base_uri": "https://localhost:8080/"
        },
        "id": "TU4yCj-nsa_t",
        "outputId": "11d3aa82-b38b-48e4-9432-ef4651a9cb40"
      },
      "execution_count": null,
      "outputs": [
        {
          "output_type": "execute_result",
          "data": {
            "text/plain": [
              "1988.0"
            ]
          },
          "metadata": {},
          "execution_count": 52
        }
      ]
    },
    {
      "cell_type": "code",
      "source": [
        "# Fillna reemplaza los nulls por los valores dados en el parametro fillna(valor) en este caso por la media\n",
        "#train['Age']=train['Age'].fillna(train['Age'].mean())\n",
        "#train['Age'].isna().sum()"
      ],
      "metadata": {
        "id": "rr25HT_useWl"
      },
      "execution_count": null,
      "outputs": []
    },
    {
      "cell_type": "code",
      "source": [
        "# Catidad de nulos en cada columna\n",
        "train.isna().sum()"
      ],
      "metadata": {
        "colab": {
          "base_uri": "https://localhost:8080/"
        },
        "id": "I7L7aPvksibU",
        "outputId": "72bc9f59-1d32-491c-d266-2b3b74e4f8c8"
      },
      "execution_count": null,
      "outputs": [
        {
          "output_type": "execute_result",
          "data": {
            "text/plain": [
              "Id                         0\n",
              "Country                    0\n",
              "Year                       0\n",
              "Gender                     0\n",
              "Child Mortality(1 to 4)    0\n",
              "Total Population           0\n",
              "Mortality Rate             0\n",
              "Mortality level            0\n",
              "dtype: int64"
            ]
          },
          "metadata": {},
          "execution_count": 54
        }
      ]
    },
    {
      "cell_type": "code",
      "source": [
        "# Aqui toma las columnas que me sirven para el problema\n",
        "train=train[['Year','Gender','Mortality level']]"
      ],
      "metadata": {
        "id": "PhDuLlqHslWx"
      },
      "execution_count": null,
      "outputs": []
    },
    {
      "cell_type": "code",
      "source": [
        "# Este elimina las filas que tengan algun nulo\n",
        "train=train.dropna()"
      ],
      "metadata": {
        "id": "Qm5X8AqRs2WT"
      },
      "execution_count": null,
      "outputs": []
    },
    {
      "cell_type": "code",
      "source": [
        "#luego eliminado los duplicados\n",
        "train=train.drop_duplicates()"
      ],
      "metadata": {
        "id": "HjEQgzz5s9yf"
      },
      "execution_count": null,
      "outputs": []
    },
    {
      "cell_type": "code",
      "source": [
        "trainDatax = train[['Year', 'Gender']]\n",
        "trainDatay = train[['Mortality level']]\n",
        "print(trainDatay.head(),\"\\n \\n\", trainDatax.head())"
      ],
      "metadata": {
        "colab": {
          "base_uri": "https://localhost:8080/"
        },
        "id": "FM9VyWj-s_pE",
        "outputId": "95efc116-8f11-4aa2-df3c-e88a33d91a1e"
      },
      "execution_count": null,
      "outputs": [
        {
          "output_type": "stream",
          "name": "stdout",
          "text": [
            "  Mortality level\n",
            "0            Alto\n",
            "1            Alto\n",
            "2            Alto\n",
            "3            Alto\n",
            "4            Alto \n",
            " \n",
            "    Year  Gender\n",
            "0  1957  Female\n",
            "1  1958  Female\n",
            "2  1959  Female\n",
            "3  1960  Female\n",
            "4  1961  Female\n"
          ]
        }
      ]
    },
    {
      "cell_type": "code",
      "source": [
        "# Trabajar las años\n",
        "# Facilita encontrar  patrones\n",
        "# segmentar y clasificar los valores de datos en contenedores\n",
        "pd.cut(trainDatax['Year'], 7, retbins = True)"
      ],
      "metadata": {
        "colab": {
          "base_uri": "https://localhost:8080/"
        },
        "id": "GKO5OCzDtDz1",
        "outputId": "27c91b1a-b79d-478a-dd21-45930a85c0dd"
      },
      "execution_count": null,
      "outputs": [
        {
          "output_type": "execute_result",
          "data": {
            "text/plain": [
              "(0      (1956.938, 1965.857]\n",
              " 1      (1956.938, 1965.857]\n",
              " 2      (1956.938, 1965.857]\n",
              " 3      (1956.938, 1965.857]\n",
              " 4      (1956.938, 1965.857]\n",
              "                ...         \n",
              " 121      (2010.143, 2019.0]\n",
              " 122      (2010.143, 2019.0]\n",
              " 123      (2010.143, 2019.0]\n",
              " 124      (2010.143, 2019.0]\n",
              " 125      (2010.143, 2019.0]\n",
              " Name: Year, Length: 126, dtype: category\n",
              " Categories (7, interval[float64, right]): [(1956.938, 1965.857] < (1965.857, 1974.714] <\n",
              "                                            (1974.714, 1983.571] < (1983.571, 1992.429] <\n",
              "                                            (1992.429, 2001.286] < (2001.286, 2010.143] <\n",
              "                                            (2010.143, 2019.0]],\n",
              " array([1956.938     , 1965.85714286, 1974.71428571, 1983.57142857,\n",
              "        1992.42857143, 2001.28571429, 2010.14285714, 2019.        ]))"
            ]
          },
          "metadata": {},
          "execution_count": 59
        }
      ]
    },
    {
      "cell_type": "code",
      "source": [
        "# Clasisfica las años de 1950-1960,1960-1970,1970-1980,...,2010-2020\n",
        "# al ejecutar sale un length devuelve cantidad de valores repetidos\n",
        "pd.cut(trainDatax['Year'],[1950,1960,1970,1980,1990,2000,2010,2020,2030])"
      ],
      "metadata": {
        "colab": {
          "base_uri": "https://localhost:8080/"
        },
        "id": "boZlbSlRtReZ",
        "outputId": "ce08880d-83fd-494c-d2e7-63b9374deb2e"
      },
      "execution_count": null,
      "outputs": [
        {
          "output_type": "execute_result",
          "data": {
            "text/plain": [
              "0      (1950, 1960]\n",
              "1      (1950, 1960]\n",
              "2      (1950, 1960]\n",
              "3      (1950, 1960]\n",
              "4      (1960, 1970]\n",
              "           ...     \n",
              "121    (2010, 2020]\n",
              "122    (2010, 2020]\n",
              "123    (2010, 2020]\n",
              "124    (2010, 2020]\n",
              "125    (2010, 2020]\n",
              "Name: Year, Length: 126, dtype: category\n",
              "Categories (8, interval[int64, right]): [(1950, 1960] < (1960, 1970] < (1970, 1980] < (1980, 1990] <\n",
              "                                         (1990, 2000] < (2000, 2010] < (2010, 2020] < (2020, 2030]]"
            ]
          },
          "metadata": {},
          "execution_count": 60
        }
      ]
    },
    {
      "cell_type": "code",
      "source": [
        "#Se esta almacenado los años \n",
        "trainDatax['Year'] = pd.cut(trainDatax['Year'],[1950,1960,1970,1980,1990,2000,2010,2020,2030])"
      ],
      "metadata": {
        "colab": {
          "base_uri": "https://localhost:8080/"
        },
        "id": "soc-4Elztc-o",
        "outputId": "f8122f16-b592-4a8e-fea0-bfeca03c42b9"
      },
      "execution_count": null,
      "outputs": [
        {
          "output_type": "stream",
          "name": "stderr",
          "text": [
            "/usr/local/lib/python3.7/dist-packages/ipykernel_launcher.py:2: SettingWithCopyWarning: \n",
            "A value is trying to be set on a copy of a slice from a DataFrame.\n",
            "Try using .loc[row_indexer,col_indexer] = value instead\n",
            "\n",
            "See the caveats in the documentation: https://pandas.pydata.org/pandas-docs/stable/user_guide/indexing.html#returning-a-view-versus-a-copy\n",
            "  \n"
          ]
        }
      ]
    },
    {
      "cell_type": "code",
      "source": [
        "trainDatax.head()"
      ],
      "metadata": {
        "colab": {
          "base_uri": "https://localhost:8080/",
          "height": 206
        },
        "id": "YlTHtBh_tiHT",
        "outputId": "f2d9fa28-f514-4307-d10f-3627806eb60a"
      },
      "execution_count": null,
      "outputs": [
        {
          "output_type": "execute_result",
          "data": {
            "text/plain": [
              "           Year  Gender\n",
              "0  (1950, 1960]  Female\n",
              "1  (1950, 1960]  Female\n",
              "2  (1950, 1960]  Female\n",
              "3  (1950, 1960]  Female\n",
              "4  (1960, 1970]  Female"
            ],
            "text/html": [
              "\n",
              "  <div id=\"df-cc5cfc45-8e3c-4dba-833f-7697bd792fea\">\n",
              "    <div class=\"colab-df-container\">\n",
              "      <div>\n",
              "<style scoped>\n",
              "    .dataframe tbody tr th:only-of-type {\n",
              "        vertical-align: middle;\n",
              "    }\n",
              "\n",
              "    .dataframe tbody tr th {\n",
              "        vertical-align: top;\n",
              "    }\n",
              "\n",
              "    .dataframe thead th {\n",
              "        text-align: right;\n",
              "    }\n",
              "</style>\n",
              "<table border=\"1\" class=\"dataframe\">\n",
              "  <thead>\n",
              "    <tr style=\"text-align: right;\">\n",
              "      <th></th>\n",
              "      <th>Year</th>\n",
              "      <th>Gender</th>\n",
              "    </tr>\n",
              "  </thead>\n",
              "  <tbody>\n",
              "    <tr>\n",
              "      <th>0</th>\n",
              "      <td>(1950, 1960]</td>\n",
              "      <td>Female</td>\n",
              "    </tr>\n",
              "    <tr>\n",
              "      <th>1</th>\n",
              "      <td>(1950, 1960]</td>\n",
              "      <td>Female</td>\n",
              "    </tr>\n",
              "    <tr>\n",
              "      <th>2</th>\n",
              "      <td>(1950, 1960]</td>\n",
              "      <td>Female</td>\n",
              "    </tr>\n",
              "    <tr>\n",
              "      <th>3</th>\n",
              "      <td>(1950, 1960]</td>\n",
              "      <td>Female</td>\n",
              "    </tr>\n",
              "    <tr>\n",
              "      <th>4</th>\n",
              "      <td>(1960, 1970]</td>\n",
              "      <td>Female</td>\n",
              "    </tr>\n",
              "  </tbody>\n",
              "</table>\n",
              "</div>\n",
              "      <button class=\"colab-df-convert\" onclick=\"convertToInteractive('df-cc5cfc45-8e3c-4dba-833f-7697bd792fea')\"\n",
              "              title=\"Convert this dataframe to an interactive table.\"\n",
              "              style=\"display:none;\">\n",
              "        \n",
              "  <svg xmlns=\"http://www.w3.org/2000/svg\" height=\"24px\"viewBox=\"0 0 24 24\"\n",
              "       width=\"24px\">\n",
              "    <path d=\"M0 0h24v24H0V0z\" fill=\"none\"/>\n",
              "    <path d=\"M18.56 5.44l.94 2.06.94-2.06 2.06-.94-2.06-.94-.94-2.06-.94 2.06-2.06.94zm-11 1L8.5 8.5l.94-2.06 2.06-.94-2.06-.94L8.5 2.5l-.94 2.06-2.06.94zm10 10l.94 2.06.94-2.06 2.06-.94-2.06-.94-.94-2.06-.94 2.06-2.06.94z\"/><path d=\"M17.41 7.96l-1.37-1.37c-.4-.4-.92-.59-1.43-.59-.52 0-1.04.2-1.43.59L10.3 9.45l-7.72 7.72c-.78.78-.78 2.05 0 2.83L4 21.41c.39.39.9.59 1.41.59.51 0 1.02-.2 1.41-.59l7.78-7.78 2.81-2.81c.8-.78.8-2.07 0-2.86zM5.41 20L4 18.59l7.72-7.72 1.47 1.35L5.41 20z\"/>\n",
              "  </svg>\n",
              "      </button>\n",
              "      \n",
              "  <style>\n",
              "    .colab-df-container {\n",
              "      display:flex;\n",
              "      flex-wrap:wrap;\n",
              "      gap: 12px;\n",
              "    }\n",
              "\n",
              "    .colab-df-convert {\n",
              "      background-color: #E8F0FE;\n",
              "      border: none;\n",
              "      border-radius: 50%;\n",
              "      cursor: pointer;\n",
              "      display: none;\n",
              "      fill: #1967D2;\n",
              "      height: 32px;\n",
              "      padding: 0 0 0 0;\n",
              "      width: 32px;\n",
              "    }\n",
              "\n",
              "    .colab-df-convert:hover {\n",
              "      background-color: #E2EBFA;\n",
              "      box-shadow: 0px 1px 2px rgba(60, 64, 67, 0.3), 0px 1px 3px 1px rgba(60, 64, 67, 0.15);\n",
              "      fill: #174EA6;\n",
              "    }\n",
              "\n",
              "    [theme=dark] .colab-df-convert {\n",
              "      background-color: #3B4455;\n",
              "      fill: #D2E3FC;\n",
              "    }\n",
              "\n",
              "    [theme=dark] .colab-df-convert:hover {\n",
              "      background-color: #434B5C;\n",
              "      box-shadow: 0px 1px 3px 1px rgba(0, 0, 0, 0.15);\n",
              "      filter: drop-shadow(0px 1px 2px rgba(0, 0, 0, 0.3));\n",
              "      fill: #FFFFFF;\n",
              "    }\n",
              "  </style>\n",
              "\n",
              "      <script>\n",
              "        const buttonEl =\n",
              "          document.querySelector('#df-cc5cfc45-8e3c-4dba-833f-7697bd792fea button.colab-df-convert');\n",
              "        buttonEl.style.display =\n",
              "          google.colab.kernel.accessAllowed ? 'block' : 'none';\n",
              "\n",
              "        async function convertToInteractive(key) {\n",
              "          const element = document.querySelector('#df-cc5cfc45-8e3c-4dba-833f-7697bd792fea');\n",
              "          const dataTable =\n",
              "            await google.colab.kernel.invokeFunction('convertToInteractive',\n",
              "                                                     [key], {});\n",
              "          if (!dataTable) return;\n",
              "\n",
              "          const docLinkHtml = 'Like what you see? Visit the ' +\n",
              "            '<a target=\"_blank\" href=https://colab.research.google.com/notebooks/data_table.ipynb>data table notebook</a>'\n",
              "            + ' to learn more about interactive tables.';\n",
              "          element.innerHTML = '';\n",
              "          dataTable['output_type'] = 'display_data';\n",
              "          await google.colab.output.renderOutput(dataTable, element);\n",
              "          const docLink = document.createElement('div');\n",
              "          docLink.innerHTML = docLinkHtml;\n",
              "          element.appendChild(docLink);\n",
              "        }\n",
              "      </script>\n",
              "    </div>\n",
              "  </div>\n",
              "  "
            ]
          },
          "metadata": {},
          "execution_count": 62
        }
      ]
    },
    {
      "cell_type": "code",
      "source": [
        "# devuelve los duplicados\n",
        "trainDatax.duplicated(keep=False)"
      ],
      "metadata": {
        "colab": {
          "base_uri": "https://localhost:8080/"
        },
        "id": "FkpcE6vKtsG5",
        "outputId": "008880f9-643e-4a29-e386-e018cedf18ba"
      },
      "execution_count": null,
      "outputs": [
        {
          "output_type": "execute_result",
          "data": {
            "text/plain": [
              "0      True\n",
              "1      True\n",
              "2      True\n",
              "3      True\n",
              "4      True\n",
              "       ... \n",
              "121    True\n",
              "122    True\n",
              "123    True\n",
              "124    True\n",
              "125    True\n",
              "Length: 126, dtype: bool"
            ]
          },
          "metadata": {},
          "execution_count": 63
        }
      ]
    },
    {
      "cell_type": "code",
      "source": [
        "from pandas.core.arrays import categorical\n",
        "# obtener una representación numérica de una matriz cuando todo lo que importa es identificar valores distintos\n",
        "trainDatax.loc[:,'Year'],categoriaYear=pd.factorize(trainDatax['Year'],sort=True)"
      ],
      "metadata": {
        "colab": {
          "base_uri": "https://localhost:8080/"
        },
        "id": "E-SbWYWAt0A_",
        "outputId": "18a45618-eb60-45d5-c8d1-881b8c681a2d"
      },
      "execution_count": null,
      "outputs": [
        {
          "output_type": "stream",
          "name": "stderr",
          "text": [
            "/usr/local/lib/python3.7/dist-packages/pandas/core/indexing.py:1773: SettingWithCopyWarning: \n",
            "A value is trying to be set on a copy of a slice from a DataFrame.\n",
            "Try using .loc[row_indexer,col_indexer] = value instead\n",
            "\n",
            "See the caveats in the documentation: https://pandas.pydata.org/pandas-docs/stable/user_guide/indexing.html#returning-a-view-versus-a-copy\n",
            "  self._setitem_single_column(ilocs[0], value, pi)\n"
          ]
        }
      ]
    },
    {
      "cell_type": "code",
      "source": [
        "trainDatax.loc[:,'Gender'],categoriGender=pd.factorize(trainDatax['Gender'],sort=True)\n",
        "categoriGender"
      ],
      "metadata": {
        "colab": {
          "base_uri": "https://localhost:8080/"
        },
        "id": "alnTGTdht-I4",
        "outputId": "cf8dbd49-0747-46f1-99b5-b363e9075ad7"
      },
      "execution_count": null,
      "outputs": [
        {
          "output_type": "stream",
          "name": "stderr",
          "text": [
            "/usr/local/lib/python3.7/dist-packages/pandas/core/indexing.py:1773: SettingWithCopyWarning: \n",
            "A value is trying to be set on a copy of a slice from a DataFrame.\n",
            "Try using .loc[row_indexer,col_indexer] = value instead\n",
            "\n",
            "See the caveats in the documentation: https://pandas.pydata.org/pandas-docs/stable/user_guide/indexing.html#returning-a-view-versus-a-copy\n",
            "  self._setitem_single_column(ilocs[0], value, pi)\n"
          ]
        },
        {
          "output_type": "execute_result",
          "data": {
            "text/plain": [
              "Index(['Female', 'Male'], dtype='object')"
            ]
          },
          "metadata": {},
          "execution_count": 65
        }
      ]
    },
    {
      "cell_type": "code",
      "source": [
        "#trainDatax.loc[:,'Country'],categoriAge=pd.factorize(trainDatax['Country'],sort=True)\n",
        "#categoriAge"
      ],
      "metadata": {
        "id": "IX1hh3G0uEvK"
      },
      "execution_count": null,
      "outputs": []
    },
    {
      "cell_type": "code",
      "source": [
        "trainDatay.loc[:,'Mortality level'],categoriMortalitylevel=pd.factorize(trainDatay['Mortality level'],sort=True)\n",
        "categoriMortalitylevel"
      ],
      "metadata": {
        "colab": {
          "base_uri": "https://localhost:8080/"
        },
        "id": "C1aOQWb2uIVJ",
        "outputId": "c2462ca7-d67d-4400-e066-42c438a0fb84"
      },
      "execution_count": null,
      "outputs": [
        {
          "output_type": "stream",
          "name": "stderr",
          "text": [
            "/usr/local/lib/python3.7/dist-packages/pandas/core/indexing.py:1951: SettingWithCopyWarning: \n",
            "A value is trying to be set on a copy of a slice from a DataFrame.\n",
            "Try using .loc[row_indexer,col_indexer] = value instead\n",
            "\n",
            "See the caveats in the documentation: https://pandas.pydata.org/pandas-docs/stable/user_guide/indexing.html#returning-a-view-versus-a-copy\n",
            "  self.obj[selected_item_labels] = value\n"
          ]
        },
        {
          "output_type": "execute_result",
          "data": {
            "text/plain": [
              "Index(['Alto', 'Bajo', 'Medio'], dtype='object')"
            ]
          },
          "metadata": {},
          "execution_count": 67
        }
      ]
    },
    {
      "cell_type": "code",
      "source": [
        "# de aqui en adelante nos toca la normalización\n",
        "trainDatax.head(500)"
      ],
      "metadata": {
        "colab": {
          "base_uri": "https://localhost:8080/",
          "height": 424
        },
        "id": "o-HhD5bLuW-o",
        "outputId": "5888ac73-4696-4e91-b23f-c02db556ba30"
      },
      "execution_count": null,
      "outputs": [
        {
          "output_type": "execute_result",
          "data": {
            "text/plain": [
              "     Year  Gender\n",
              "0       0       0\n",
              "1       0       0\n",
              "2       0       0\n",
              "3       0       0\n",
              "4       1       0\n",
              "..    ...     ...\n",
              "121     6       1\n",
              "122     6       1\n",
              "123     6       1\n",
              "124     6       1\n",
              "125     6       1\n",
              "\n",
              "[126 rows x 2 columns]"
            ],
            "text/html": [
              "\n",
              "  <div id=\"df-bb876e8a-2bf1-4bab-a3aa-8e8c3c8bb379\">\n",
              "    <div class=\"colab-df-container\">\n",
              "      <div>\n",
              "<style scoped>\n",
              "    .dataframe tbody tr th:only-of-type {\n",
              "        vertical-align: middle;\n",
              "    }\n",
              "\n",
              "    .dataframe tbody tr th {\n",
              "        vertical-align: top;\n",
              "    }\n",
              "\n",
              "    .dataframe thead th {\n",
              "        text-align: right;\n",
              "    }\n",
              "</style>\n",
              "<table border=\"1\" class=\"dataframe\">\n",
              "  <thead>\n",
              "    <tr style=\"text-align: right;\">\n",
              "      <th></th>\n",
              "      <th>Year</th>\n",
              "      <th>Gender</th>\n",
              "    </tr>\n",
              "  </thead>\n",
              "  <tbody>\n",
              "    <tr>\n",
              "      <th>0</th>\n",
              "      <td>0</td>\n",
              "      <td>0</td>\n",
              "    </tr>\n",
              "    <tr>\n",
              "      <th>1</th>\n",
              "      <td>0</td>\n",
              "      <td>0</td>\n",
              "    </tr>\n",
              "    <tr>\n",
              "      <th>2</th>\n",
              "      <td>0</td>\n",
              "      <td>0</td>\n",
              "    </tr>\n",
              "    <tr>\n",
              "      <th>3</th>\n",
              "      <td>0</td>\n",
              "      <td>0</td>\n",
              "    </tr>\n",
              "    <tr>\n",
              "      <th>4</th>\n",
              "      <td>1</td>\n",
              "      <td>0</td>\n",
              "    </tr>\n",
              "    <tr>\n",
              "      <th>...</th>\n",
              "      <td>...</td>\n",
              "      <td>...</td>\n",
              "    </tr>\n",
              "    <tr>\n",
              "      <th>121</th>\n",
              "      <td>6</td>\n",
              "      <td>1</td>\n",
              "    </tr>\n",
              "    <tr>\n",
              "      <th>122</th>\n",
              "      <td>6</td>\n",
              "      <td>1</td>\n",
              "    </tr>\n",
              "    <tr>\n",
              "      <th>123</th>\n",
              "      <td>6</td>\n",
              "      <td>1</td>\n",
              "    </tr>\n",
              "    <tr>\n",
              "      <th>124</th>\n",
              "      <td>6</td>\n",
              "      <td>1</td>\n",
              "    </tr>\n",
              "    <tr>\n",
              "      <th>125</th>\n",
              "      <td>6</td>\n",
              "      <td>1</td>\n",
              "    </tr>\n",
              "  </tbody>\n",
              "</table>\n",
              "<p>126 rows × 2 columns</p>\n",
              "</div>\n",
              "      <button class=\"colab-df-convert\" onclick=\"convertToInteractive('df-bb876e8a-2bf1-4bab-a3aa-8e8c3c8bb379')\"\n",
              "              title=\"Convert this dataframe to an interactive table.\"\n",
              "              style=\"display:none;\">\n",
              "        \n",
              "  <svg xmlns=\"http://www.w3.org/2000/svg\" height=\"24px\"viewBox=\"0 0 24 24\"\n",
              "       width=\"24px\">\n",
              "    <path d=\"M0 0h24v24H0V0z\" fill=\"none\"/>\n",
              "    <path d=\"M18.56 5.44l.94 2.06.94-2.06 2.06-.94-2.06-.94-.94-2.06-.94 2.06-2.06.94zm-11 1L8.5 8.5l.94-2.06 2.06-.94-2.06-.94L8.5 2.5l-.94 2.06-2.06.94zm10 10l.94 2.06.94-2.06 2.06-.94-2.06-.94-.94-2.06-.94 2.06-2.06.94z\"/><path d=\"M17.41 7.96l-1.37-1.37c-.4-.4-.92-.59-1.43-.59-.52 0-1.04.2-1.43.59L10.3 9.45l-7.72 7.72c-.78.78-.78 2.05 0 2.83L4 21.41c.39.39.9.59 1.41.59.51 0 1.02-.2 1.41-.59l7.78-7.78 2.81-2.81c.8-.78.8-2.07 0-2.86zM5.41 20L4 18.59l7.72-7.72 1.47 1.35L5.41 20z\"/>\n",
              "  </svg>\n",
              "      </button>\n",
              "      \n",
              "  <style>\n",
              "    .colab-df-container {\n",
              "      display:flex;\n",
              "      flex-wrap:wrap;\n",
              "      gap: 12px;\n",
              "    }\n",
              "\n",
              "    .colab-df-convert {\n",
              "      background-color: #E8F0FE;\n",
              "      border: none;\n",
              "      border-radius: 50%;\n",
              "      cursor: pointer;\n",
              "      display: none;\n",
              "      fill: #1967D2;\n",
              "      height: 32px;\n",
              "      padding: 0 0 0 0;\n",
              "      width: 32px;\n",
              "    }\n",
              "\n",
              "    .colab-df-convert:hover {\n",
              "      background-color: #E2EBFA;\n",
              "      box-shadow: 0px 1px 2px rgba(60, 64, 67, 0.3), 0px 1px 3px 1px rgba(60, 64, 67, 0.15);\n",
              "      fill: #174EA6;\n",
              "    }\n",
              "\n",
              "    [theme=dark] .colab-df-convert {\n",
              "      background-color: #3B4455;\n",
              "      fill: #D2E3FC;\n",
              "    }\n",
              "\n",
              "    [theme=dark] .colab-df-convert:hover {\n",
              "      background-color: #434B5C;\n",
              "      box-shadow: 0px 1px 3px 1px rgba(0, 0, 0, 0.15);\n",
              "      filter: drop-shadow(0px 1px 2px rgba(0, 0, 0, 0.3));\n",
              "      fill: #FFFFFF;\n",
              "    }\n",
              "  </style>\n",
              "\n",
              "      <script>\n",
              "        const buttonEl =\n",
              "          document.querySelector('#df-bb876e8a-2bf1-4bab-a3aa-8e8c3c8bb379 button.colab-df-convert');\n",
              "        buttonEl.style.display =\n",
              "          google.colab.kernel.accessAllowed ? 'block' : 'none';\n",
              "\n",
              "        async function convertToInteractive(key) {\n",
              "          const element = document.querySelector('#df-bb876e8a-2bf1-4bab-a3aa-8e8c3c8bb379');\n",
              "          const dataTable =\n",
              "            await google.colab.kernel.invokeFunction('convertToInteractive',\n",
              "                                                     [key], {});\n",
              "          if (!dataTable) return;\n",
              "\n",
              "          const docLinkHtml = 'Like what you see? Visit the ' +\n",
              "            '<a target=\"_blank\" href=https://colab.research.google.com/notebooks/data_table.ipynb>data table notebook</a>'\n",
              "            + ' to learn more about interactive tables.';\n",
              "          element.innerHTML = '';\n",
              "          dataTable['output_type'] = 'display_data';\n",
              "          await google.colab.output.renderOutput(dataTable, element);\n",
              "          const docLink = document.createElement('div');\n",
              "          docLink.innerHTML = docLinkHtml;\n",
              "          element.appendChild(docLink);\n",
              "        }\n",
              "      </script>\n",
              "    </div>\n",
              "  </div>\n",
              "  "
            ]
          },
          "metadata": {},
          "execution_count": 68
        }
      ]
    },
    {
      "cell_type": "code",
      "source": [
        "# de aqui en adelante nos toca la normalización\n",
        "trainDatay.head(500)"
      ],
      "metadata": {
        "colab": {
          "base_uri": "https://localhost:8080/",
          "height": 424
        },
        "id": "ESLMjHSAubEW",
        "outputId": "b269e1cf-cad3-4be1-b964-2f52ffc0aaf5"
      },
      "execution_count": null,
      "outputs": [
        {
          "output_type": "execute_result",
          "data": {
            "text/plain": [
              "     Mortality level\n",
              "0                  0\n",
              "1                  0\n",
              "2                  0\n",
              "3                  0\n",
              "4                  0\n",
              "..               ...\n",
              "121                1\n",
              "122                1\n",
              "123                1\n",
              "124                1\n",
              "125                1\n",
              "\n",
              "[126 rows x 1 columns]"
            ],
            "text/html": [
              "\n",
              "  <div id=\"df-2195ca9c-4f66-47eb-924b-a3d4c1385c5c\">\n",
              "    <div class=\"colab-df-container\">\n",
              "      <div>\n",
              "<style scoped>\n",
              "    .dataframe tbody tr th:only-of-type {\n",
              "        vertical-align: middle;\n",
              "    }\n",
              "\n",
              "    .dataframe tbody tr th {\n",
              "        vertical-align: top;\n",
              "    }\n",
              "\n",
              "    .dataframe thead th {\n",
              "        text-align: right;\n",
              "    }\n",
              "</style>\n",
              "<table border=\"1\" class=\"dataframe\">\n",
              "  <thead>\n",
              "    <tr style=\"text-align: right;\">\n",
              "      <th></th>\n",
              "      <th>Mortality level</th>\n",
              "    </tr>\n",
              "  </thead>\n",
              "  <tbody>\n",
              "    <tr>\n",
              "      <th>0</th>\n",
              "      <td>0</td>\n",
              "    </tr>\n",
              "    <tr>\n",
              "      <th>1</th>\n",
              "      <td>0</td>\n",
              "    </tr>\n",
              "    <tr>\n",
              "      <th>2</th>\n",
              "      <td>0</td>\n",
              "    </tr>\n",
              "    <tr>\n",
              "      <th>3</th>\n",
              "      <td>0</td>\n",
              "    </tr>\n",
              "    <tr>\n",
              "      <th>4</th>\n",
              "      <td>0</td>\n",
              "    </tr>\n",
              "    <tr>\n",
              "      <th>...</th>\n",
              "      <td>...</td>\n",
              "    </tr>\n",
              "    <tr>\n",
              "      <th>121</th>\n",
              "      <td>1</td>\n",
              "    </tr>\n",
              "    <tr>\n",
              "      <th>122</th>\n",
              "      <td>1</td>\n",
              "    </tr>\n",
              "    <tr>\n",
              "      <th>123</th>\n",
              "      <td>1</td>\n",
              "    </tr>\n",
              "    <tr>\n",
              "      <th>124</th>\n",
              "      <td>1</td>\n",
              "    </tr>\n",
              "    <tr>\n",
              "      <th>125</th>\n",
              "      <td>1</td>\n",
              "    </tr>\n",
              "  </tbody>\n",
              "</table>\n",
              "<p>126 rows × 1 columns</p>\n",
              "</div>\n",
              "      <button class=\"colab-df-convert\" onclick=\"convertToInteractive('df-2195ca9c-4f66-47eb-924b-a3d4c1385c5c')\"\n",
              "              title=\"Convert this dataframe to an interactive table.\"\n",
              "              style=\"display:none;\">\n",
              "        \n",
              "  <svg xmlns=\"http://www.w3.org/2000/svg\" height=\"24px\"viewBox=\"0 0 24 24\"\n",
              "       width=\"24px\">\n",
              "    <path d=\"M0 0h24v24H0V0z\" fill=\"none\"/>\n",
              "    <path d=\"M18.56 5.44l.94 2.06.94-2.06 2.06-.94-2.06-.94-.94-2.06-.94 2.06-2.06.94zm-11 1L8.5 8.5l.94-2.06 2.06-.94-2.06-.94L8.5 2.5l-.94 2.06-2.06.94zm10 10l.94 2.06.94-2.06 2.06-.94-2.06-.94-.94-2.06-.94 2.06-2.06.94z\"/><path d=\"M17.41 7.96l-1.37-1.37c-.4-.4-.92-.59-1.43-.59-.52 0-1.04.2-1.43.59L10.3 9.45l-7.72 7.72c-.78.78-.78 2.05 0 2.83L4 21.41c.39.39.9.59 1.41.59.51 0 1.02-.2 1.41-.59l7.78-7.78 2.81-2.81c.8-.78.8-2.07 0-2.86zM5.41 20L4 18.59l7.72-7.72 1.47 1.35L5.41 20z\"/>\n",
              "  </svg>\n",
              "      </button>\n",
              "      \n",
              "  <style>\n",
              "    .colab-df-container {\n",
              "      display:flex;\n",
              "      flex-wrap:wrap;\n",
              "      gap: 12px;\n",
              "    }\n",
              "\n",
              "    .colab-df-convert {\n",
              "      background-color: #E8F0FE;\n",
              "      border: none;\n",
              "      border-radius: 50%;\n",
              "      cursor: pointer;\n",
              "      display: none;\n",
              "      fill: #1967D2;\n",
              "      height: 32px;\n",
              "      padding: 0 0 0 0;\n",
              "      width: 32px;\n",
              "    }\n",
              "\n",
              "    .colab-df-convert:hover {\n",
              "      background-color: #E2EBFA;\n",
              "      box-shadow: 0px 1px 2px rgba(60, 64, 67, 0.3), 0px 1px 3px 1px rgba(60, 64, 67, 0.15);\n",
              "      fill: #174EA6;\n",
              "    }\n",
              "\n",
              "    [theme=dark] .colab-df-convert {\n",
              "      background-color: #3B4455;\n",
              "      fill: #D2E3FC;\n",
              "    }\n",
              "\n",
              "    [theme=dark] .colab-df-convert:hover {\n",
              "      background-color: #434B5C;\n",
              "      box-shadow: 0px 1px 3px 1px rgba(0, 0, 0, 0.15);\n",
              "      filter: drop-shadow(0px 1px 2px rgba(0, 0, 0, 0.3));\n",
              "      fill: #FFFFFF;\n",
              "    }\n",
              "  </style>\n",
              "\n",
              "      <script>\n",
              "        const buttonEl =\n",
              "          document.querySelector('#df-2195ca9c-4f66-47eb-924b-a3d4c1385c5c button.colab-df-convert');\n",
              "        buttonEl.style.display =\n",
              "          google.colab.kernel.accessAllowed ? 'block' : 'none';\n",
              "\n",
              "        async function convertToInteractive(key) {\n",
              "          const element = document.querySelector('#df-2195ca9c-4f66-47eb-924b-a3d4c1385c5c');\n",
              "          const dataTable =\n",
              "            await google.colab.kernel.invokeFunction('convertToInteractive',\n",
              "                                                     [key], {});\n",
              "          if (!dataTable) return;\n",
              "\n",
              "          const docLinkHtml = 'Like what you see? Visit the ' +\n",
              "            '<a target=\"_blank\" href=https://colab.research.google.com/notebooks/data_table.ipynb>data table notebook</a>'\n",
              "            + ' to learn more about interactive tables.';\n",
              "          element.innerHTML = '';\n",
              "          dataTable['output_type'] = 'display_data';\n",
              "          await google.colab.output.renderOutput(dataTable, element);\n",
              "          const docLink = document.createElement('div');\n",
              "          docLink.innerHTML = docLinkHtml;\n",
              "          element.appendChild(docLink);\n",
              "        }\n",
              "      </script>\n",
              "    </div>\n",
              "  </div>\n",
              "  "
            ]
          },
          "metadata": {},
          "execution_count": 69
        }
      ]
    },
    {
      "cell_type": "code",
      "source": [
        "#Normalizar los datos\n",
        "from sklearn.preprocessing import StandardScaler"
      ],
      "metadata": {
        "id": "XqTvSc2kufsk"
      },
      "execution_count": null,
      "outputs": []
    },
    {
      "cell_type": "code",
      "source": [
        "# fit se encarga de ajustar los parámetros de regresión lineal a los datos.\n",
        "# fit Calcula la media y el estándar que se usarán para la escala posterior.\n",
        "\n",
        "scaler=StandardScaler()\n",
        "scaler.fit(trainDatax)\n",
        "print(scaler.mean_)"
      ],
      "metadata": {
        "colab": {
          "base_uri": "https://localhost:8080/"
        },
        "id": "tMNHfJZDultj",
        "outputId": "5ed9eae9-244f-4e08-f77e-70fa0d70ad2c"
      },
      "execution_count": null,
      "outputs": [
        {
          "output_type": "stream",
          "name": "stdout",
          "text": [
            "[3.23809524 0.5       ]\n"
          ]
        }
      ]
    },
    {
      "cell_type": "code",
      "source": [
        "# Ajuste a los datos y luego transfórmelos.\n",
        "trainDatax=scaler.fit_transform(trainDatax)\n",
        "trainDatax"
      ],
      "metadata": {
        "colab": {
          "base_uri": "https://localhost:8080/"
        },
        "id": "vk6bh6Wgup98",
        "outputId": "535c7433-f210-45df-c5e3-cc1b988e7eba"
      },
      "execution_count": null,
      "outputs": [
        {
          "output_type": "execute_result",
          "data": {
            "text/plain": [
              "array([[-1.75927452, -1.        ],\n",
              "       [-1.75927452, -1.        ],\n",
              "       [-1.75927452, -1.        ],\n",
              "       [-1.75927452, -1.        ],\n",
              "       [-1.21596916, -1.        ],\n",
              "       [-1.21596916, -1.        ],\n",
              "       [-1.21596916, -1.        ],\n",
              "       [-1.21596916, -1.        ],\n",
              "       [-1.21596916, -1.        ],\n",
              "       [-1.21596916, -1.        ],\n",
              "       [-1.21596916, -1.        ],\n",
              "       [-1.21596916, -1.        ],\n",
              "       [-1.21596916, -1.        ],\n",
              "       [-1.21596916, -1.        ],\n",
              "       [-0.67266379, -1.        ],\n",
              "       [-0.67266379, -1.        ],\n",
              "       [-0.67266379, -1.        ],\n",
              "       [-0.67266379, -1.        ],\n",
              "       [-0.67266379, -1.        ],\n",
              "       [-0.67266379, -1.        ],\n",
              "       [-0.67266379, -1.        ],\n",
              "       [-0.67266379, -1.        ],\n",
              "       [-0.67266379, -1.        ],\n",
              "       [-0.67266379, -1.        ],\n",
              "       [-0.12935842, -1.        ],\n",
              "       [-0.12935842, -1.        ],\n",
              "       [-0.12935842, -1.        ],\n",
              "       [-0.12935842, -1.        ],\n",
              "       [-0.12935842, -1.        ],\n",
              "       [-0.12935842, -1.        ],\n",
              "       [-0.12935842, -1.        ],\n",
              "       [-0.12935842, -1.        ],\n",
              "       [-0.12935842, -1.        ],\n",
              "       [-0.12935842, -1.        ],\n",
              "       [ 0.41394695, -1.        ],\n",
              "       [ 0.41394695, -1.        ],\n",
              "       [ 0.41394695, -1.        ],\n",
              "       [ 0.41394695, -1.        ],\n",
              "       [ 0.41394695, -1.        ],\n",
              "       [ 0.41394695, -1.        ],\n",
              "       [ 0.41394695, -1.        ],\n",
              "       [ 0.41394695, -1.        ],\n",
              "       [ 0.41394695, -1.        ],\n",
              "       [ 0.41394695, -1.        ],\n",
              "       [ 0.95725232, -1.        ],\n",
              "       [ 0.95725232, -1.        ],\n",
              "       [ 0.95725232, -1.        ],\n",
              "       [ 0.95725232, -1.        ],\n",
              "       [ 0.95725232, -1.        ],\n",
              "       [ 0.95725232, -1.        ],\n",
              "       [ 0.95725232, -1.        ],\n",
              "       [ 0.95725232, -1.        ],\n",
              "       [ 0.95725232, -1.        ],\n",
              "       [ 0.95725232, -1.        ],\n",
              "       [ 1.50055768, -1.        ],\n",
              "       [ 1.50055768, -1.        ],\n",
              "       [ 1.50055768, -1.        ],\n",
              "       [ 1.50055768, -1.        ],\n",
              "       [ 1.50055768, -1.        ],\n",
              "       [ 1.50055768, -1.        ],\n",
              "       [ 1.50055768, -1.        ],\n",
              "       [ 1.50055768, -1.        ],\n",
              "       [ 1.50055768, -1.        ],\n",
              "       [-1.75927452,  1.        ],\n",
              "       [-1.75927452,  1.        ],\n",
              "       [-1.75927452,  1.        ],\n",
              "       [-1.75927452,  1.        ],\n",
              "       [-1.21596916,  1.        ],\n",
              "       [-1.21596916,  1.        ],\n",
              "       [-1.21596916,  1.        ],\n",
              "       [-1.21596916,  1.        ],\n",
              "       [-1.21596916,  1.        ],\n",
              "       [-1.21596916,  1.        ],\n",
              "       [-1.21596916,  1.        ],\n",
              "       [-1.21596916,  1.        ],\n",
              "       [-1.21596916,  1.        ],\n",
              "       [-1.21596916,  1.        ],\n",
              "       [-0.67266379,  1.        ],\n",
              "       [-0.67266379,  1.        ],\n",
              "       [-0.67266379,  1.        ],\n",
              "       [-0.67266379,  1.        ],\n",
              "       [-0.67266379,  1.        ],\n",
              "       [-0.67266379,  1.        ],\n",
              "       [-0.67266379,  1.        ],\n",
              "       [-0.67266379,  1.        ],\n",
              "       [-0.67266379,  1.        ],\n",
              "       [-0.67266379,  1.        ],\n",
              "       [-0.12935842,  1.        ],\n",
              "       [-0.12935842,  1.        ],\n",
              "       [-0.12935842,  1.        ],\n",
              "       [-0.12935842,  1.        ],\n",
              "       [-0.12935842,  1.        ],\n",
              "       [-0.12935842,  1.        ],\n",
              "       [-0.12935842,  1.        ],\n",
              "       [-0.12935842,  1.        ],\n",
              "       [-0.12935842,  1.        ],\n",
              "       [-0.12935842,  1.        ],\n",
              "       [ 0.41394695,  1.        ],\n",
              "       [ 0.41394695,  1.        ],\n",
              "       [ 0.41394695,  1.        ],\n",
              "       [ 0.41394695,  1.        ],\n",
              "       [ 0.41394695,  1.        ],\n",
              "       [ 0.41394695,  1.        ],\n",
              "       [ 0.41394695,  1.        ],\n",
              "       [ 0.41394695,  1.        ],\n",
              "       [ 0.41394695,  1.        ],\n",
              "       [ 0.41394695,  1.        ],\n",
              "       [ 0.95725232,  1.        ],\n",
              "       [ 0.95725232,  1.        ],\n",
              "       [ 0.95725232,  1.        ],\n",
              "       [ 0.95725232,  1.        ],\n",
              "       [ 0.95725232,  1.        ],\n",
              "       [ 0.95725232,  1.        ],\n",
              "       [ 0.95725232,  1.        ],\n",
              "       [ 0.95725232,  1.        ],\n",
              "       [ 0.95725232,  1.        ],\n",
              "       [ 0.95725232,  1.        ],\n",
              "       [ 1.50055768,  1.        ],\n",
              "       [ 1.50055768,  1.        ],\n",
              "       [ 1.50055768,  1.        ],\n",
              "       [ 1.50055768,  1.        ],\n",
              "       [ 1.50055768,  1.        ],\n",
              "       [ 1.50055768,  1.        ],\n",
              "       [ 1.50055768,  1.        ],\n",
              "       [ 1.50055768,  1.        ],\n",
              "       [ 1.50055768,  1.        ]])"
            ]
          },
          "metadata": {},
          "execution_count": 72
        }
      ]
    },
    {
      "cell_type": "code",
      "source": [
        "from sklearn.decomposition import PCA"
      ],
      "metadata": {
        "id": "Ne7BSk5uutwV"
      },
      "execution_count": null,
      "outputs": []
    },
    {
      "cell_type": "code",
      "source": [
        "# cuantos son parecidos y distintos (parecidos,distintos)\n",
        "\n",
        "pca = PCA(n_components = 2 )\n",
        "pca.fit(trainDatax)\n",
        "print(pca.explained_variance_ratio_)"
      ],
      "metadata": {
        "colab": {
          "base_uri": "https://localhost:8080/"
        },
        "id": "gaiFBVPHu2je",
        "outputId": "c26572ea-2017-4c44-fcb2-4285aff65ea8"
      },
      "execution_count": null,
      "outputs": [
        {
          "output_type": "stream",
          "name": "stdout",
          "text": [
            "[0.5 0.5]\n"
          ]
        }
      ]
    },
    {
      "cell_type": "code",
      "source": [
        "print(trainDatax, trainDatay)"
      ],
      "metadata": {
        "colab": {
          "base_uri": "https://localhost:8080/"
        },
        "id": "GR3MGfr-u7CZ",
        "outputId": "0825c5be-d5d5-4f62-eeeb-0e3e40ec36f4"
      },
      "execution_count": null,
      "outputs": [
        {
          "output_type": "stream",
          "name": "stdout",
          "text": [
            "[[-1.75927452 -1.        ]\n",
            " [-1.75927452 -1.        ]\n",
            " [-1.75927452 -1.        ]\n",
            " [-1.75927452 -1.        ]\n",
            " [-1.21596916 -1.        ]\n",
            " [-1.21596916 -1.        ]\n",
            " [-1.21596916 -1.        ]\n",
            " [-1.21596916 -1.        ]\n",
            " [-1.21596916 -1.        ]\n",
            " [-1.21596916 -1.        ]\n",
            " [-1.21596916 -1.        ]\n",
            " [-1.21596916 -1.        ]\n",
            " [-1.21596916 -1.        ]\n",
            " [-1.21596916 -1.        ]\n",
            " [-0.67266379 -1.        ]\n",
            " [-0.67266379 -1.        ]\n",
            " [-0.67266379 -1.        ]\n",
            " [-0.67266379 -1.        ]\n",
            " [-0.67266379 -1.        ]\n",
            " [-0.67266379 -1.        ]\n",
            " [-0.67266379 -1.        ]\n",
            " [-0.67266379 -1.        ]\n",
            " [-0.67266379 -1.        ]\n",
            " [-0.67266379 -1.        ]\n",
            " [-0.12935842 -1.        ]\n",
            " [-0.12935842 -1.        ]\n",
            " [-0.12935842 -1.        ]\n",
            " [-0.12935842 -1.        ]\n",
            " [-0.12935842 -1.        ]\n",
            " [-0.12935842 -1.        ]\n",
            " [-0.12935842 -1.        ]\n",
            " [-0.12935842 -1.        ]\n",
            " [-0.12935842 -1.        ]\n",
            " [-0.12935842 -1.        ]\n",
            " [ 0.41394695 -1.        ]\n",
            " [ 0.41394695 -1.        ]\n",
            " [ 0.41394695 -1.        ]\n",
            " [ 0.41394695 -1.        ]\n",
            " [ 0.41394695 -1.        ]\n",
            " [ 0.41394695 -1.        ]\n",
            " [ 0.41394695 -1.        ]\n",
            " [ 0.41394695 -1.        ]\n",
            " [ 0.41394695 -1.        ]\n",
            " [ 0.41394695 -1.        ]\n",
            " [ 0.95725232 -1.        ]\n",
            " [ 0.95725232 -1.        ]\n",
            " [ 0.95725232 -1.        ]\n",
            " [ 0.95725232 -1.        ]\n",
            " [ 0.95725232 -1.        ]\n",
            " [ 0.95725232 -1.        ]\n",
            " [ 0.95725232 -1.        ]\n",
            " [ 0.95725232 -1.        ]\n",
            " [ 0.95725232 -1.        ]\n",
            " [ 0.95725232 -1.        ]\n",
            " [ 1.50055768 -1.        ]\n",
            " [ 1.50055768 -1.        ]\n",
            " [ 1.50055768 -1.        ]\n",
            " [ 1.50055768 -1.        ]\n",
            " [ 1.50055768 -1.        ]\n",
            " [ 1.50055768 -1.        ]\n",
            " [ 1.50055768 -1.        ]\n",
            " [ 1.50055768 -1.        ]\n",
            " [ 1.50055768 -1.        ]\n",
            " [-1.75927452  1.        ]\n",
            " [-1.75927452  1.        ]\n",
            " [-1.75927452  1.        ]\n",
            " [-1.75927452  1.        ]\n",
            " [-1.21596916  1.        ]\n",
            " [-1.21596916  1.        ]\n",
            " [-1.21596916  1.        ]\n",
            " [-1.21596916  1.        ]\n",
            " [-1.21596916  1.        ]\n",
            " [-1.21596916  1.        ]\n",
            " [-1.21596916  1.        ]\n",
            " [-1.21596916  1.        ]\n",
            " [-1.21596916  1.        ]\n",
            " [-1.21596916  1.        ]\n",
            " [-0.67266379  1.        ]\n",
            " [-0.67266379  1.        ]\n",
            " [-0.67266379  1.        ]\n",
            " [-0.67266379  1.        ]\n",
            " [-0.67266379  1.        ]\n",
            " [-0.67266379  1.        ]\n",
            " [-0.67266379  1.        ]\n",
            " [-0.67266379  1.        ]\n",
            " [-0.67266379  1.        ]\n",
            " [-0.67266379  1.        ]\n",
            " [-0.12935842  1.        ]\n",
            " [-0.12935842  1.        ]\n",
            " [-0.12935842  1.        ]\n",
            " [-0.12935842  1.        ]\n",
            " [-0.12935842  1.        ]\n",
            " [-0.12935842  1.        ]\n",
            " [-0.12935842  1.        ]\n",
            " [-0.12935842  1.        ]\n",
            " [-0.12935842  1.        ]\n",
            " [-0.12935842  1.        ]\n",
            " [ 0.41394695  1.        ]\n",
            " [ 0.41394695  1.        ]\n",
            " [ 0.41394695  1.        ]\n",
            " [ 0.41394695  1.        ]\n",
            " [ 0.41394695  1.        ]\n",
            " [ 0.41394695  1.        ]\n",
            " [ 0.41394695  1.        ]\n",
            " [ 0.41394695  1.        ]\n",
            " [ 0.41394695  1.        ]\n",
            " [ 0.41394695  1.        ]\n",
            " [ 0.95725232  1.        ]\n",
            " [ 0.95725232  1.        ]\n",
            " [ 0.95725232  1.        ]\n",
            " [ 0.95725232  1.        ]\n",
            " [ 0.95725232  1.        ]\n",
            " [ 0.95725232  1.        ]\n",
            " [ 0.95725232  1.        ]\n",
            " [ 0.95725232  1.        ]\n",
            " [ 0.95725232  1.        ]\n",
            " [ 0.95725232  1.        ]\n",
            " [ 1.50055768  1.        ]\n",
            " [ 1.50055768  1.        ]\n",
            " [ 1.50055768  1.        ]\n",
            " [ 1.50055768  1.        ]\n",
            " [ 1.50055768  1.        ]\n",
            " [ 1.50055768  1.        ]\n",
            " [ 1.50055768  1.        ]\n",
            " [ 1.50055768  1.        ]\n",
            " [ 1.50055768  1.        ]]      Mortality level\n",
            "0                  0\n",
            "1                  0\n",
            "2                  0\n",
            "3                  0\n",
            "4                  0\n",
            "..               ...\n",
            "121                1\n",
            "122                1\n",
            "123                1\n",
            "124                1\n",
            "125                1\n",
            "\n",
            "[126 rows x 1 columns]\n"
          ]
        }
      ]
    },
    {
      "cell_type": "markdown",
      "source": [
        "## Se dividira los datos en 80% de entrenamientos, 20% pruebas"
      ],
      "metadata": {
        "id": "LWF0FVyRvaQy"
      }
    },
    {
      "cell_type": "code",
      "source": [
        "# Entrenar la RN\n",
        "import numpy as np\n",
        "from sklearn.model_selection import train_test_split"
      ],
      "metadata": {
        "id": "DRyw_DvRveqw"
      },
      "execution_count": null,
      "outputs": []
    },
    {
      "cell_type": "code",
      "source": [
        "trainDatay=trainDatay.to_numpy()\n",
        "x_train, x_test, y_train, y_test= train_test_split(trainDatax, trainDatay, test_size=0.3)"
      ],
      "metadata": {
        "id": "FJbzcKtVvwNC"
      },
      "execution_count": null,
      "outputs": []
    },
    {
      "cell_type": "code",
      "source": [
        "print(x_train[0:10],\"\\n \\n\", x_test[0:10],\"\\n \\n\", y_train[0:10],\"\\n \\n\", y_test[0:10])"
      ],
      "metadata": {
        "colab": {
          "base_uri": "https://localhost:8080/"
        },
        "id": "C04x58ODvxTh",
        "outputId": "6ee16385-48dc-4a62-d228-ab45a3da153a"
      },
      "execution_count": null,
      "outputs": [
        {
          "output_type": "stream",
          "name": "stdout",
          "text": [
            "[[-1.75927452  1.        ]\n",
            " [-1.21596916  1.        ]\n",
            " [ 1.50055768 -1.        ]\n",
            " [-0.67266379 -1.        ]\n",
            " [ 0.95725232 -1.        ]\n",
            " [-0.12935842  1.        ]\n",
            " [ 0.95725232 -1.        ]\n",
            " [-0.12935842 -1.        ]\n",
            " [-0.12935842  1.        ]\n",
            " [-0.67266379 -1.        ]] \n",
            " \n",
            " [[ 0.95725232 -1.        ]\n",
            " [ 0.95725232 -1.        ]\n",
            " [-0.12935842  1.        ]\n",
            " [-1.21596916  1.        ]\n",
            " [-0.12935842  1.        ]\n",
            " [ 1.50055768  1.        ]\n",
            " [-1.21596916 -1.        ]\n",
            " [-0.67266379 -1.        ]\n",
            " [-0.12935842 -1.        ]\n",
            " [-1.75927452 -1.        ]] \n",
            " \n",
            " [[0]\n",
            " [0]\n",
            " [1]\n",
            " [0]\n",
            " [2]\n",
            " [0]\n",
            " [1]\n",
            " [0]\n",
            " [0]\n",
            " [0]] \n",
            " \n",
            " [[2]\n",
            " [1]\n",
            " [0]\n",
            " [0]\n",
            " [0]\n",
            " [1]\n",
            " [0]\n",
            " [0]\n",
            " [0]\n",
            " [0]]\n"
          ]
        }
      ]
    },
    {
      "cell_type": "code",
      "source": [
        "import numpy as np\n",
        "\n",
        "def sigmoide(x):\n",
        "  return (1.0/(1.0+np.exp(-x)))\n",
        "def derivada(x):\n",
        "  return sigmoide(x)*(1.0-sigmoide(x))\n",
        "\n",
        "def neurona(entrada, pesosCO1, tendenciasC01, pesosCO2, tendenciasCO2, pesosCO3, tendenciasCO3, pesosCO4, tendenciasCO4,pesosCO5, tendenciasCO5,pesosCO6, tendenciasCO6,pesosCO7, tendenciasCO7,pesosCO8, tendenciasCO8,pesosCO9, tendenciasCO9, pesosCS, tendenciasCS):\n",
        "  entradaNetaC1=np.dot(pesosCO1, np.transpose(entrada))-tendenciasC01\n",
        "  salidaC1=sigmoide(entradaNetaC1)\n",
        "\n",
        "  entradaNetaC2 = np.dot(pesosCO2,salidaC1)-tendenciasCO2\n",
        "  salidaC2=sigmoide(entradaNetaC2)\n",
        "\n",
        "  entradaNetaC3 = np.dot(pesosCO3,salidaC2)-tendenciasCO3\n",
        "  salidaC3=sigmoide(entradaNetaC3)\n",
        "\n",
        "  entradaNetaC4 = np.dot(pesosCO4,salidaC3)-tendenciasCO4\n",
        "  salidaC4=sigmoide(entradaNetaC4)\n",
        "\n",
        "  entradaNetaC5 = np.dot(pesosCO5,salidaC4)-tendenciasCO5\n",
        "  salidaC5=sigmoide(entradaNetaC5)\n",
        "\n",
        "  entradaNetaC6 = np.dot(pesosCO6,salidaC5)-tendenciasCO6\n",
        "  salidaC6=sigmoide(entradaNetaC6)\n",
        "\n",
        "  entradaNetaC7 = np.dot(pesosCO7,salidaC6)-tendenciasCO7\n",
        "  salidaC7=sigmoide(entradaNetaC7)\n",
        "\n",
        "  entradaNetaC8 = np.dot(pesosCO8,salidaC7)-tendenciasCO8\n",
        "  salidaC8=sigmoide(entradaNetaC8)\n",
        "\n",
        "  entradaNetaC9 = np.dot(pesosCO9,salidaC8)-tendenciasCO9\n",
        "  salidaC9=sigmoide(entradaNetaC9)\n",
        "\n",
        "  entradaNetaCS = np.dot(pesosCS,salidaC9)-tendenciasCS\n",
        "  salida=sigmoide(entradaNetaCS)\n",
        "\n",
        "  return salida, entradaNetaCS, entradaNetaC9, entradaNetaC8, entradaNetaC7, entradaNetaC6, entradaNetaC5, entradaNetaC4, entradaNetaC3, entradaNetaC2, entradaNetaC1\n",
        "# el algoritmo recibe\n",
        "# FacorAprendizaje: que tanto se permite el cambio en los pesos w(t) = e*error'f'(neta)*xj\n",
        "# error: un valor de error que permitimos\n",
        "# entradas: el conjunto de entradas que se van a trabajar \n",
        "# salidas: salidas esperadas\n",
        "# max-it: el numero de iteraciones que prmitimos\n",
        "# alpha: el valor de incremento del factor de aprendzaje\n",
        "# rho: El valor de decremento del factor de aprendizaje\n",
        "# neuronasC1: numero de neuronas en la capa oculta 1\n",
        "# neuronasC2: numero de neuronas en la capa oculta 2\n",
        "def backpropagation(entradas, salidas,factorAprendizaje, error, max_it, alpha, rho, neuronasC1, neuronasC2, neuronasC3, neuronasC4, neuronasC5, neuronasC6, neuronasC7, neuronasC8,  neuronasC9):\n",
        "\n",
        "  # tiene 3 neuronas y como tres entradas tenemos una matriz de 3x3\n",
        "  pesosCO1=2*np.random.rand(neuronasC1,entradas.shape[1])-1\n",
        "  tendenciasC1=2*np.random.rand(neuronasC1)-1\n",
        "\n",
        "  # pesos capa oculta 2\n",
        "  # la capa oculta 2 tiene 2 neuronas y recive las salidas de 3 neuronas en la capa oculta 1\n",
        "  # genera una matriz de 2x3\n",
        "  pesosCO2=2*np.random.rand(neuronasC2,neuronasC1)-1\n",
        "  tendenciasC2=2*np.random.rand(neuronasC2)-1\n",
        "\n",
        "  # pesos capa oculta 3\n",
        "  pesosCO3=2*np.random.rand(neuronasC3,neuronasC2)-1\n",
        "  tendenciasC3=2*np.random.rand(neuronasC3)-1\n",
        "\n",
        "  # pesos capa oculta 4\n",
        "  pesosCO4=2*np.random.rand(neuronasC4,neuronasC3)-1\n",
        "  tendenciasC4=2*np.random.rand(neuronasC4)-1\n",
        "\n",
        "  # pesos capa oculta 5\n",
        "  pesosCO5=2*np.random.rand(neuronasC5,neuronasC4)-1\n",
        "  tendenciasC5=2*np.random.rand(neuronasC5)-1\n",
        "\n",
        "  # pesos capa oculta 6\n",
        "  pesosCO6=2*np.random.rand(neuronasC6,neuronasC5)-1\n",
        "  tendenciasC6=2*np.random.rand(neuronasC6)-1\n",
        "\n",
        "  # pesos capa oculta 7\n",
        "  pesosCO7=2*np.random.rand(neuronasC7,neuronasC6)-1\n",
        "  tendenciasC7=2*np.random.rand(neuronasC7)-1\n",
        "\n",
        "  # pesos capa oculta 8\n",
        "  pesosCO8=2*np.random.rand(neuronasC8,neuronasC7)-1\n",
        "  tendenciasC8=2*np.random.rand(neuronasC8)-1\n",
        "\n",
        "  # pesos capa oculta 9\n",
        "  pesosCO9=2*np.random.rand(neuronasC9,neuronasC8)-1\n",
        "  tendenciasC9=2*np.random.rand(neuronasC9)-1\n",
        "\n",
        "  # Generamos los pesos de la capa de salida, 1 salida (1 neurona) y tenemos 2 entradas que vienen de la capa oculta 2\n",
        "  pesosCS = 2*np.random.rand(neuronasC9)-1\n",
        "\n",
        "  #pesosCS = 2*np.random.rand(salidas.shape[1],neuronasC7)-1 #mas de una salida\n",
        "\n",
        "\n",
        "  tendenciasCS=2*np.random.rand(1)-1\n",
        "  it=0\n",
        "  errorVec=[]\n",
        "  errorAnt=float('inf')\n",
        "  while(it<max_it):\n",
        "    it+=1\n",
        "    errorIt=0\n",
        "    for i in range(0, entradas.shape[0]):\n",
        "      ent=entradas[i]\n",
        "      t=salidas[i]\n",
        "      y,entradaNetaCS, entradaNetaC9, entradaNetaC8, entradaNetaC7, entradaNetaC6, entradaNetaC5, entradaNetaC4, entradaNetaC3, entradaNetaC2, entradaNetaC1=neurona(\n",
        "          ent, pesosCO1, tendenciasC1, pesosCO2, tendenciasC2, pesosCO3, tendenciasC3, pesosCO4, tendenciasC4,pesosCO5, tendenciasC5,\n",
        "          pesosCO6, tendenciasC6, pesosCO7, tendenciasC7, pesosCO8, tendenciasC8, pesosCO9, tendenciasC9, pesosCS, tendenciasCS)\n",
        "\n",
        "      errorIt+=np.power(t-y,2)/2.0\n",
        "\n",
        "      #errorIt+=np.sum(np.power(t-y,2)/2.0)\n",
        "      #np.sum(np.power(t-y,2)/2.0)\n",
        "\n",
        "    errorVec.append(errorIt)\n",
        "    for i in range(0, entradas.shape[0]):\n",
        "      ent=entradas[i]\n",
        "      t=salidas[i]\n",
        "      y,entradaNetaCS, entradaNetaC9, entradaNetaC8, entradaNetaC7, entradaNetaC6, entradaNetaC5, entradaNetaC4, entradaNetaC3, entradaNetaC2, entradaNetaC1=neurona(\n",
        "          ent, pesosCO1, tendenciasC1, pesosCO2, tendenciasC2, pesosCO3, tendenciasC3, pesosCO4, tendenciasC4,pesosCO5, tendenciasC5,\n",
        "          pesosCO6, tendenciasC6, pesosCO7, tendenciasC7, pesosCO8, tendenciasC8, pesosCO9, tendenciasC9, pesosCS, tendenciasCS)\n",
        "      \n",
        "      # calcular el error en la capa salida\n",
        "      errorCS=(t-y)*derivada(entradaNetaCS)\n",
        "\n",
        "      #calcular el error capa oculta 9\n",
        "      errorC9=0\n",
        "      for j in range(0,pesosCS.shape[0]):\n",
        "        errorC9+=pesosCS[j]*errorCS*derivada(entradaNetaC9[j])\n",
        "      \n",
        "      #calcular el error capa oculta 8\n",
        "      errorC8=0\n",
        "      for j in range(0,pesosCO9.shape[0]):\n",
        "        for k in range(0, pesosCO9.shape[1]):\n",
        "          errorC8+=pesosCO9[j][k]*errorC9*derivada(entradaNetaC8[k])\n",
        "\n",
        "      #calcular el error capa oculta 7\n",
        "      errorC7=0\n",
        "      for j in range(0,pesosCO8.shape[0]):\n",
        "        for k in range(0, pesosCO8.shape[1]):\n",
        "          errorC7+=pesosCO8[j][k]*errorC8*derivada(entradaNetaC7[k])\n",
        "      \n",
        "      #calcular el error capa oculta 6\n",
        "      errorC6=0\n",
        "      for j in range(0,pesosCO7.shape[0]):\n",
        "        for k in range(0, pesosCO7.shape[1]):\n",
        "          errorC6+=pesosCO7[j][k]*errorC7*derivada(entradaNetaC6[k])\n",
        "      \n",
        "      #calcular el error capa oculta 5\n",
        "      errorC5=0\n",
        "      for j in range(0,pesosCO6.shape[0]):\n",
        "        for k in range(0, pesosCO6.shape[1]):\n",
        "          errorC5+=pesosCO6[j][k]*errorC6*derivada(entradaNetaC5[k])\n",
        "\n",
        "      #calcular el error capa oculta 4\n",
        "      errorC4=0\n",
        "      for j in range(0,pesosCO5.shape[0]):\n",
        "        for k in range(0, pesosCO5.shape[1]):\n",
        "          errorC4+=pesosCO5[j][k]*errorC5*derivada(entradaNetaC4[k])\n",
        "    \n",
        "    \n",
        "\n",
        "      #calcular el error capa oculta 3\n",
        "      errorC3=0\n",
        "      for j in range(0,pesosCO4.shape[0]):\n",
        "        for k in range(0, pesosCO4.shape[1]):\n",
        "          errorC3+=pesosCO4[j][k]*errorC4*derivada(entradaNetaC3[k])\n",
        "    \n",
        "      #calcular el error capa oculta 2\n",
        "      errorC2=0\n",
        "      for j in range(0,pesosCO3.shape[0]):\n",
        "        for k in range(0, pesosCO3.shape[1]):\n",
        "          errorC2+=pesosCO3[j][k]*errorC3*derivada(entradaNetaC2[k])\n",
        "        \n",
        "\n",
        "      #Calcular el error de la capa oculta 1\n",
        "      errorC1=0\n",
        "      for j in range(0, pesosCO2.shape[0]):\n",
        "        for k in range(0, pesosCO2.shape[1]):\n",
        "          errorC1 += pesosCO2[j][k]*errorC2*derivada(entradaNetaC1[k])\n",
        "\n",
        "      # actualiza pesos\n",
        "      # cada salida\n",
        "      for j in range(0, pesosCS.shape[0]):\n",
        "        pesosCS[j]+=factorAprendizaje*errorCS*entradaNetaCS\n",
        "\n",
        "      #Actualizar las tendencias\n",
        "      for j in range(0,tendenciasCS.shape[0]):\n",
        "        tendenciasCS[j]+=factorAprendizaje*errorCS*(-1)\n",
        "        \n",
        "\n",
        "      #pesos capa oculta 9\n",
        "      for j in range(0, pesosCO9.shape[0]): #neurona de CO7\n",
        "        for k in range(0, pesosCO9.shape[1]): #Salida de la CO6\n",
        "          pesosCO9[j][k]+=factorAprendizaje*errorC9*entradaNetaC9[j]\n",
        "      # \n",
        "      # actualizar las tendencias 9\n",
        "      for j in range(0, tendenciasC9.shape[0]):\n",
        "        tendenciasC9[j]+=factorAprendizaje*errorC9*(-1)\n",
        "      \n",
        "      #pesos capa oculta 8\n",
        "      for j in range(0, pesosCO8.shape[0]): #neurona de CO7\n",
        "        for k in range(0, pesosCO8.shape[1]): #Salida de la CO6\n",
        "          pesosCO8[j][k]+=factorAprendizaje*errorC8*entradaNetaC8[j]\n",
        "      # \n",
        "      # actualizar las tendencias 8\n",
        "      for j in range(0, tendenciasC8.shape[0]):\n",
        "        tendenciasC8[j]+=factorAprendizaje*errorC8*(-1)\n",
        "      \n",
        "\n",
        "      #pesos capa oculta 7\n",
        "      for j in range(0, pesosCO7.shape[0]): #neurona de CO7\n",
        "        for k in range(0, pesosCO7.shape[1]): #Salida de la CO6\n",
        "          pesosCO7[j][k]+=factorAprendizaje*errorC7*entradaNetaC7[j]\n",
        "      # \n",
        "      # actualizar las tendencias 7\n",
        "      for j in range(0, tendenciasC7.shape[0]):\n",
        "        tendenciasC7[j]+=factorAprendizaje*errorC7*(-1)\n",
        "\n",
        "\n",
        "\n",
        "      #pesos capa oculta 6\n",
        "      for j in range(0, pesosCO6.shape[0]): #neurona de CO6\n",
        "        for k in range(0, pesosCO6.shape[1]): #Salida de la CO5\n",
        "          pesosCO6[j][k]+=factorAprendizaje*errorC6*entradaNetaC6[j]\n",
        "      # \n",
        "      # actualizar las tendencias 6\n",
        "      for j in range(0, tendenciasC6.shape[0]):\n",
        "        tendenciasC6[j]+=factorAprendizaje*errorC6*(-1)\n",
        "\n",
        "\n",
        "      #pesos capa oculta 5\n",
        "      for j in range(0, pesosCO5.shape[0]): #neurona de CO5\n",
        "        for k in range(0, pesosCO5.shape[1]): #Salida de la CO4\n",
        "          pesosCO5[j][k]+=factorAprendizaje*errorC5*entradaNetaC5[j]\n",
        "      # \n",
        "      # actualizar las tendencias 5\n",
        "      for j in range(0, tendenciasC5.shape[0]):\n",
        "        tendenciasC5[j]+=factorAprendizaje*errorC5*(-1)\n",
        "\n",
        "\n",
        "      #pesos capa oculta 4\n",
        "      for j in range(0, pesosCO4.shape[0]): #neurona de CO4\n",
        "        for k in range(0, pesosCO4.shape[1]): #Salida de la CO3\n",
        "          pesosCO4[j][k]+=factorAprendizaje*errorC4*entradaNetaC4[j]\n",
        "      # \n",
        "      # actualizar las tendencias 4\n",
        "      for j in range(0, tendenciasC4.shape[0]):\n",
        "        tendenciasC4[j]+=factorAprendizaje*errorC4*(-1)\n",
        "\n",
        "      #pesos capa oculta 3\n",
        "      for j in range(0, pesosCO3.shape[0]): #neurona de CO3\n",
        "        for k in range(0, pesosCO3.shape[1]): #Salida de la CO2\n",
        "          pesosCO3[j][k]+=factorAprendizaje*errorC3*entradaNetaC3[j]\n",
        "      # \n",
        "      # actualizar las tendencias 3\n",
        "      for j in range(0, tendenciasC3.shape[0]):\n",
        "        tendenciasC3[j]+=factorAprendizaje*errorC3*(-1)\n",
        "\n",
        "      #pesos capa oculta 2\n",
        "      for j in range(0, pesosCO2.shape[0]): #neurona de CO2\n",
        "        for k in range(0, pesosCO2.shape[1]): #Salida de la CO1\n",
        "          pesosCO2[j][k]+=factorAprendizaje*errorC2*entradaNetaC2[j]\n",
        "      # \n",
        "      # actualizar las tendencias 2\n",
        "      for j in range(0, tendenciasC2.shape[0]):\n",
        "        tendenciasC2[j]+=factorAprendizaje*errorC2*(-1)\n",
        "\n",
        "      # Pesos capa oculta 1\n",
        "      for j in range(0, pesosCO1.shape[0]):\n",
        "        for k in range(0, pesosCO1.shape[1]):\n",
        "          pesosCO1[j][k]+=factorAprendizaje*errorC1*entradaNetaC1[j]\n",
        "\n",
        "      #Actualizar las tendencias 1\n",
        "      for j in range(0,tendenciasC1.shape[0]):\n",
        "        tendenciasC1[j]+=factorAprendizaje*errorC1*(-1)\n",
        "\n",
        "    if errorIt < errorAnt:\n",
        "      factorAprendizaje*=alpha\n",
        "  else:\n",
        "    factorAprendizaje*=rho\n",
        "  errorAnt=errorIt\n",
        "  return pesosCS, pesosCO1, pesosCO2, pesosCO3, pesosCO4, pesosCO5,pesosCO6, pesosCO7, pesosCO8, pesosCO9,tendenciasC1, tendenciasC2, tendenciasC3, tendenciasC4,tendenciasC5,tendenciasC6, tendenciasC7,tendenciasC8, tendenciasC9, tendenciasCS, errorVec"
      ],
      "metadata": {
        "id": "mEMjMCzfv4SK"
      },
      "execution_count": null,
      "outputs": []
    },
    {
      "cell_type": "code",
      "source": [
        "# parametros\n",
        "neuronasC1=2\n",
        "neuronasC2=6 #2n+1 Regla de Kolmorogov\n",
        "neuronasC3=3\n",
        "neuronasC4=4\n",
        "neuronasC5=2\n",
        "neuronasC6=5\n",
        "neuronasC7=3\n",
        "neuronasC8=2\n",
        "neuronasC9=1\n",
        "factorAprendizaje=0.5\n",
        "alpha=1.05 # aumentar el factor de aprendizaje \n",
        "rho=0.95 #disminuir el factor de aprendizaje\n",
        "max_it=200\n",
        "error=0.01"
      ],
      "metadata": {
        "id": "V0cXAyuiwMHf"
      },
      "execution_count": null,
      "outputs": []
    },
    {
      "cell_type": "code",
      "source": [
        "# x_train, x_test, y_train, y_test\n",
        "pesosCS, pesosCO1, pesosCO2, pesosCO3, pesosCO4, pesosCO5, pesosCO6, pesosCO7, pesosCO8, pesosCO9, tc1, tc2, tc3, tc4,tc5,tc6,tc7,tc8,tc9, tcs, errorVec=backpropagation(x_train, y_train,factorAprendizaje, error, max_it, alpha, rho, neuronasC1, neuronasC2, neuronasC3, neuronasC4, neuronasC5,neuronasC6, neuronasC7,neuronasC8, neuronasC9 )"
      ],
      "metadata": {
        "id": "m2W6Fh8bwcEh"
      },
      "execution_count": null,
      "outputs": []
    },
    {
      "cell_type": "code",
      "source": [
        "import matplotlib.pyplot as plt\n",
        "plt.plot(errorVec)\n",
        "plt.title(\"Error de entrenamiento\")"
      ],
      "metadata": {
        "colab": {
          "base_uri": "https://localhost:8080/",
          "height": 298
        },
        "id": "SywZi1ovwgyB",
        "outputId": "2db1f9d3-a5c3-4dca-eda8-1804cf9ca292"
      },
      "execution_count": null,
      "outputs": [
        {
          "output_type": "execute_result",
          "data": {
            "text/plain": [
              "Text(0.5, 1.0, 'Error de entrenamiento')"
            ]
          },
          "metadata": {},
          "execution_count": 136
        },
        {
          "output_type": "display_data",
          "data": {
            "text/plain": [
              "<Figure size 432x288 with 1 Axes>"
            ],
            "image/png": "[encoded data removed]"
          },
          "metadata": {
            "needs_background": "light"
          }
        }
      ]
    },
    {
      "cell_type": "code",
      "source": [
        "import math\n",
        "def errorRNN(x,t):\n",
        "  error=0\n",
        "  emc=0\n",
        "  for i in range(0,x.shape[0]):\n",
        "    xi=x[i]\n",
        "    ti=t[i]\n",
        "    y,entredaNetaCS,entradaNetaC9, entradaNetaC8,entradaNetaC7, entradaNetaC6, entradaNetaC5, entradaNetaC4, entradaNetaC3, entradaNetaC2,entradaNetaC1=neurona(xi,pesosCO1,tc1,pesosCO2,tc2,pesosCO3,tc3, pesosCO4,tc4, pesosCO5,tc5,pesosCO6,tc6, pesosCO7,tc7,pesosCO8,tc8, pesosCO9,tc9, pesosCS, tcs)\n",
        "    emc=pow((ti-y),2)/2\n",
        "    if int(round(y[0],0))!=ti:\n",
        "      error+=1\n",
        "  error=(error/x.shape[0])*100\n",
        "  return error, emc"
      ],
      "metadata": {
        "id": "r6ylI8d3wmEs"
      },
      "execution_count": null,
      "outputs": []
    },
    {
      "cell_type": "code",
      "source": [
        "error, emc=errorRNN(x_test, y_test)\n",
        "print(error,emc)"
      ],
      "metadata": {
        "colab": {
          "base_uri": "https://localhost:8080/"
        },
        "id": "qCplKpttwprC",
        "outputId": "dbc71abf-fa67-43c3-de41-b8f3b2851937"
      },
      "execution_count": null,
      "outputs": [
        {
          "output_type": "stream",
          "name": "stdout",
          "text": [
            "73.68421052631578 [0.49998427]\n"
          ]
        }
      ]
    },
    {
      "cell_type": "code",
      "source": [
        "from sklearn.neural_network import MLPClassifier\n",
        "clf=MLPClassifier(solver='lbfgs', alpha=1e-5,hidden_layer_sizes=(neuronasC1, neuronasC2,neuronasC3, neuronasC4, neuronasC5, neuronasC6,neuronasC7,neuronasC8, neuronasC9 ),random_state=1)\n",
        "clf.fit(x_train, y_train)"
      ],
      "metadata": {
        "id": "ACirGYcwwreM",
        "colab": {
          "base_uri": "https://localhost:8080/"
        },
        "outputId": "4b3769bf-9fe0-4d46-ecf6-a1203fa12be5"
      },
      "execution_count": null,
      "outputs": [
        {
          "output_type": "stream",
          "name": "stderr",
          "text": [
            "/usr/local/lib/python3.7/dist-packages/sklearn/neural_network/_multilayer_perceptron.py:1109: DataConversionWarning: A column-vector y was passed when a 1d array was expected. Please change the shape of y to (n_samples, ), for example using ravel().\n",
            "  y = column_or_1d(y, warn=True)\n"
          ]
        },
        {
          "output_type": "execute_result",
          "data": {
            "text/plain": [
              "MLPClassifier(alpha=1e-05, hidden_layer_sizes=(2, 6, 3, 4, 2, 5, 3, 2, 1),\n",
              "              random_state=1, solver='lbfgs')"
            ]
          },
          "metadata": {},
          "execution_count": 139
        }
      ]
    },
    {
      "cell_type": "code",
      "source": [
        "clf.score(x_test, y_test)"
      ],
      "metadata": {
        "colab": {
          "base_uri": "https://localhost:8080/"
        },
        "id": "_DkMhKsrkY6G",
        "outputId": "cf4f34ec-8200-40e5-dfb3-94b99bc41170"
      },
      "execution_count": null,
      "outputs": [
        {
          "output_type": "execute_result",
          "data": {
            "text/plain": [
              "0.5"
            ]
          },
          "metadata": {},
          "execution_count": 140
        }
      ]
    },
    {
      "cell_type": "code",
      "source": [
        ""
      ],
      "metadata": {
        "id": "LVPSBuoZkj6V"
      },
      "execution_count": null,
      "outputs": []
    }
  ]
}